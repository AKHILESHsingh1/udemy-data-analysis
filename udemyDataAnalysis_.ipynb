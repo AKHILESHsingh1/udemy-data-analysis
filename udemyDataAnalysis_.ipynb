{
  "nbformat": 4,
  "nbformat_minor": 0,
  "metadata": {
    "colab": {
      "provenance": []
    },
    "kernelspec": {
      "name": "python3",
      "display_name": "Python 3"
    },
    "language_info": {
      "name": "python"
    }
  },
  "cells": [
    {
      "cell_type": "code",
      "execution_count": 145,
      "metadata": {
        "id": "dwggRX3JR0NO"
      },
      "outputs": [],
      "source": [
        "import pandas as pd\n",
        "import matplotlib.pyplot as plt\n",
        "import numpy as np\n",
        "import seaborn as sns\n",
        "import datetime "
      ]
    },
    {
      "cell_type": "code",
      "source": [
        "udemy_datasets=pd.read_csv(\"/content/BusinessFinance.csv\")"
      ],
      "metadata": {
        "id": "TYJKbNvdUKSr"
      },
      "execution_count": 62,
      "outputs": []
    },
    {
      "cell_type": "code",
      "source": [
        "udemy_datasets.head(1)"
      ],
      "metadata": {
        "colab": {
          "base_uri": "https://localhost:8080/",
          "height": 214
        },
        "id": "wGi0oDpmTUf3",
        "outputId": "e1448f30-34ac-4bb6-9784-e2a190ab57f9"
      },
      "execution_count": 63,
      "outputs": [
        {
          "output_type": "execute_result",
          "data": {
            "text/plain": [
              "        id                               title  \\\n",
              "0  1070968  Ultimate Investment Banking Course   \n",
              "\n",
              "                                                 url  isPaid price  \\\n",
              "0  https://www.udemy.com/ultimate-investment-bank...    True   200   \n",
              "\n",
              "   numSubscribers  numReviews  numPublishedLectures instructionalLevel  \\\n",
              "0            2147          23                    51         All Levels   \n",
              "\n",
              "  contentInfo         publishedTime  Unnamed: 11  Unnamed: 12 Is Paid   Total  \\\n",
              "0   1.5 hours  2017-01-18T20:58:58Z          NaN          NaN     Yes  1103.0   \n",
              "\n",
              "  Column1  \n",
              "0     92%  "
            ],
            "text/html": [
              "\n",
              "  <div id=\"df-f6637b65-e4f6-4193-afda-78284e0bb3e9\">\n",
              "    <div class=\"colab-df-container\">\n",
              "      <div>\n",
              "<style scoped>\n",
              "    .dataframe tbody tr th:only-of-type {\n",
              "        vertical-align: middle;\n",
              "    }\n",
              "\n",
              "    .dataframe tbody tr th {\n",
              "        vertical-align: top;\n",
              "    }\n",
              "\n",
              "    .dataframe thead th {\n",
              "        text-align: right;\n",
              "    }\n",
              "</style>\n",
              "<table border=\"1\" class=\"dataframe\">\n",
              "  <thead>\n",
              "    <tr style=\"text-align: right;\">\n",
              "      <th></th>\n",
              "      <th>id</th>\n",
              "      <th>title</th>\n",
              "      <th>url</th>\n",
              "      <th>isPaid</th>\n",
              "      <th>price</th>\n",
              "      <th>numSubscribers</th>\n",
              "      <th>numReviews</th>\n",
              "      <th>numPublishedLectures</th>\n",
              "      <th>instructionalLevel</th>\n",
              "      <th>contentInfo</th>\n",
              "      <th>publishedTime</th>\n",
              "      <th>Unnamed: 11</th>\n",
              "      <th>Unnamed: 12</th>\n",
              "      <th>Is Paid</th>\n",
              "      <th>Total</th>\n",
              "      <th>Column1</th>\n",
              "    </tr>\n",
              "  </thead>\n",
              "  <tbody>\n",
              "    <tr>\n",
              "      <th>0</th>\n",
              "      <td>1070968</td>\n",
              "      <td>Ultimate Investment Banking Course</td>\n",
              "      <td>https://www.udemy.com/ultimate-investment-bank...</td>\n",
              "      <td>True</td>\n",
              "      <td>200</td>\n",
              "      <td>2147</td>\n",
              "      <td>23</td>\n",
              "      <td>51</td>\n",
              "      <td>All Levels</td>\n",
              "      <td>1.5 hours</td>\n",
              "      <td>2017-01-18T20:58:58Z</td>\n",
              "      <td>NaN</td>\n",
              "      <td>NaN</td>\n",
              "      <td>Yes</td>\n",
              "      <td>1103.0</td>\n",
              "      <td>92%</td>\n",
              "    </tr>\n",
              "  </tbody>\n",
              "</table>\n",
              "</div>\n",
              "      <button class=\"colab-df-convert\" onclick=\"convertToInteractive('df-f6637b65-e4f6-4193-afda-78284e0bb3e9')\"\n",
              "              title=\"Convert this dataframe to an interactive table.\"\n",
              "              style=\"display:none;\">\n",
              "        \n",
              "  <svg xmlns=\"http://www.w3.org/2000/svg\" height=\"24px\"viewBox=\"0 0 24 24\"\n",
              "       width=\"24px\">\n",
              "    <path d=\"M0 0h24v24H0V0z\" fill=\"none\"/>\n",
              "    <path d=\"M18.56 5.44l.94 2.06.94-2.06 2.06-.94-2.06-.94-.94-2.06-.94 2.06-2.06.94zm-11 1L8.5 8.5l.94-2.06 2.06-.94-2.06-.94L8.5 2.5l-.94 2.06-2.06.94zm10 10l.94 2.06.94-2.06 2.06-.94-2.06-.94-.94-2.06-.94 2.06-2.06.94z\"/><path d=\"M17.41 7.96l-1.37-1.37c-.4-.4-.92-.59-1.43-.59-.52 0-1.04.2-1.43.59L10.3 9.45l-7.72 7.72c-.78.78-.78 2.05 0 2.83L4 21.41c.39.39.9.59 1.41.59.51 0 1.02-.2 1.41-.59l7.78-7.78 2.81-2.81c.8-.78.8-2.07 0-2.86zM5.41 20L4 18.59l7.72-7.72 1.47 1.35L5.41 20z\"/>\n",
              "  </svg>\n",
              "      </button>\n",
              "      \n",
              "  <style>\n",
              "    .colab-df-container {\n",
              "      display:flex;\n",
              "      flex-wrap:wrap;\n",
              "      gap: 12px;\n",
              "    }\n",
              "\n",
              "    .colab-df-convert {\n",
              "      background-color: #E8F0FE;\n",
              "      border: none;\n",
              "      border-radius: 50%;\n",
              "      cursor: pointer;\n",
              "      display: none;\n",
              "      fill: #1967D2;\n",
              "      height: 32px;\n",
              "      padding: 0 0 0 0;\n",
              "      width: 32px;\n",
              "    }\n",
              "\n",
              "    .colab-df-convert:hover {\n",
              "      background-color: #E2EBFA;\n",
              "      box-shadow: 0px 1px 2px rgba(60, 64, 67, 0.3), 0px 1px 3px 1px rgba(60, 64, 67, 0.15);\n",
              "      fill: #174EA6;\n",
              "    }\n",
              "\n",
              "    [theme=dark] .colab-df-convert {\n",
              "      background-color: #3B4455;\n",
              "      fill: #D2E3FC;\n",
              "    }\n",
              "\n",
              "    [theme=dark] .colab-df-convert:hover {\n",
              "      background-color: #434B5C;\n",
              "      box-shadow: 0px 1px 3px 1px rgba(0, 0, 0, 0.15);\n",
              "      filter: drop-shadow(0px 1px 2px rgba(0, 0, 0, 0.3));\n",
              "      fill: #FFFFFF;\n",
              "    }\n",
              "  </style>\n",
              "\n",
              "      <script>\n",
              "        const buttonEl =\n",
              "          document.querySelector('#df-f6637b65-e4f6-4193-afda-78284e0bb3e9 button.colab-df-convert');\n",
              "        buttonEl.style.display =\n",
              "          google.colab.kernel.accessAllowed ? 'block' : 'none';\n",
              "\n",
              "        async function convertToInteractive(key) {\n",
              "          const element = document.querySelector('#df-f6637b65-e4f6-4193-afda-78284e0bb3e9');\n",
              "          const dataTable =\n",
              "            await google.colab.kernel.invokeFunction('convertToInteractive',\n",
              "                                                     [key], {});\n",
              "          if (!dataTable) return;\n",
              "\n",
              "          const docLinkHtml = 'Like what you see? Visit the ' +\n",
              "            '<a target=\"_blank\" href=https://colab.research.google.com/notebooks/data_table.ipynb>data table notebook</a>'\n",
              "            + ' to learn more about interactive tables.';\n",
              "          element.innerHTML = '';\n",
              "          dataTable['output_type'] = 'display_data';\n",
              "          await google.colab.output.renderOutput(dataTable, element);\n",
              "          const docLink = document.createElement('div');\n",
              "          docLink.innerHTML = docLinkHtml;\n",
              "          element.appendChild(docLink);\n",
              "        }\n",
              "      </script>\n",
              "    </div>\n",
              "  </div>\n",
              "  "
            ]
          },
          "metadata": {},
          "execution_count": 63
        }
      ]
    },
    {
      "cell_type": "code",
      "source": [
        "udemy_datasets.shape"
      ],
      "metadata": {
        "colab": {
          "base_uri": "https://localhost:8080/"
        },
        "id": "u6xSv9cIX5nZ",
        "outputId": "c4644b6f-c784-4939-9df1-3ca38f8d530c"
      },
      "execution_count": 64,
      "outputs": [
        {
          "output_type": "execute_result",
          "data": {
            "text/plain": [
              "(1199, 16)"
            ]
          },
          "metadata": {},
          "execution_count": 64
        }
      ]
    },
    {
      "cell_type": "code",
      "source": [
        "#deleting from 11th column to last column\n",
        "udemy_datasets.drop(columns=udemy_datasets.columns[11:],  axis=1,  inplace=True)"
      ],
      "metadata": {
        "id": "axqmfa2mYi9s"
      },
      "execution_count": 65,
      "outputs": []
    },
    {
      "cell_type": "code",
      "source": [
        "udemy_datasets.head(4)"
      ],
      "metadata": {
        "colab": {
          "base_uri": "https://localhost:8080/",
          "height": 288
        },
        "id": "KBZC8dHcZOLs",
        "outputId": "2ede3aa1-c065-4f7a-ab9c-e3991f87231e"
      },
      "execution_count": 69,
      "outputs": [
        {
          "output_type": "execute_result",
          "data": {
            "text/plain": [
              "        id                                              title  \\\n",
              "0  1070968                 Ultimate Investment Banking Course   \n",
              "1  1113822  Complete GST Course & Certification - Grow You...   \n",
              "2  1006314  Financial Modeling for Business Analysts and C...   \n",
              "3  1210588  Beginner to Pro - Financial Analysis in Excel ...   \n",
              "\n",
              "                                                 url  isPaid price  \\\n",
              "0  https://www.udemy.com/ultimate-investment-bank...    True   200   \n",
              "1      https://www.udemy.com/goods-and-services-tax/    True    75   \n",
              "2  https://www.udemy.com/financial-modeling-for-b...    True    45   \n",
              "3  https://www.udemy.com/complete-excel-finance-c...    True    95   \n",
              "\n",
              "   numSubscribers  numReviews  numPublishedLectures  instructionalLevel  \\\n",
              "0            2147          23                    51          All Levels   \n",
              "1            2792         923                   274          All Levels   \n",
              "2            2174          74                    51  Intermediate Level   \n",
              "3            2451          11                    36          All Levels   \n",
              "\n",
              "  contentInfo         publishedTime  \n",
              "0   1.5 hours  2017-01-18T20:58:58Z  \n",
              "1    39 hours  2017-03-09T16:34:20Z  \n",
              "2   2.5 hours  2016-12-19T19:26:30Z  \n",
              "3     3 hours  2017-05-30T20:07:24Z  "
            ],
            "text/html": [
              "\n",
              "  <div id=\"df-8de95df4-8786-4d71-9cf0-8ef2af598dbd\">\n",
              "    <div class=\"colab-df-container\">\n",
              "      <div>\n",
              "<style scoped>\n",
              "    .dataframe tbody tr th:only-of-type {\n",
              "        vertical-align: middle;\n",
              "    }\n",
              "\n",
              "    .dataframe tbody tr th {\n",
              "        vertical-align: top;\n",
              "    }\n",
              "\n",
              "    .dataframe thead th {\n",
              "        text-align: right;\n",
              "    }\n",
              "</style>\n",
              "<table border=\"1\" class=\"dataframe\">\n",
              "  <thead>\n",
              "    <tr style=\"text-align: right;\">\n",
              "      <th></th>\n",
              "      <th>id</th>\n",
              "      <th>title</th>\n",
              "      <th>url</th>\n",
              "      <th>isPaid</th>\n",
              "      <th>price</th>\n",
              "      <th>numSubscribers</th>\n",
              "      <th>numReviews</th>\n",
              "      <th>numPublishedLectures</th>\n",
              "      <th>instructionalLevel</th>\n",
              "      <th>contentInfo</th>\n",
              "      <th>publishedTime</th>\n",
              "    </tr>\n",
              "  </thead>\n",
              "  <tbody>\n",
              "    <tr>\n",
              "      <th>0</th>\n",
              "      <td>1070968</td>\n",
              "      <td>Ultimate Investment Banking Course</td>\n",
              "      <td>https://www.udemy.com/ultimate-investment-bank...</td>\n",
              "      <td>True</td>\n",
              "      <td>200</td>\n",
              "      <td>2147</td>\n",
              "      <td>23</td>\n",
              "      <td>51</td>\n",
              "      <td>All Levels</td>\n",
              "      <td>1.5 hours</td>\n",
              "      <td>2017-01-18T20:58:58Z</td>\n",
              "    </tr>\n",
              "    <tr>\n",
              "      <th>1</th>\n",
              "      <td>1113822</td>\n",
              "      <td>Complete GST Course &amp; Certification - Grow You...</td>\n",
              "      <td>https://www.udemy.com/goods-and-services-tax/</td>\n",
              "      <td>True</td>\n",
              "      <td>75</td>\n",
              "      <td>2792</td>\n",
              "      <td>923</td>\n",
              "      <td>274</td>\n",
              "      <td>All Levels</td>\n",
              "      <td>39 hours</td>\n",
              "      <td>2017-03-09T16:34:20Z</td>\n",
              "    </tr>\n",
              "    <tr>\n",
              "      <th>2</th>\n",
              "      <td>1006314</td>\n",
              "      <td>Financial Modeling for Business Analysts and C...</td>\n",
              "      <td>https://www.udemy.com/financial-modeling-for-b...</td>\n",
              "      <td>True</td>\n",
              "      <td>45</td>\n",
              "      <td>2174</td>\n",
              "      <td>74</td>\n",
              "      <td>51</td>\n",
              "      <td>Intermediate Level</td>\n",
              "      <td>2.5 hours</td>\n",
              "      <td>2016-12-19T19:26:30Z</td>\n",
              "    </tr>\n",
              "    <tr>\n",
              "      <th>3</th>\n",
              "      <td>1210588</td>\n",
              "      <td>Beginner to Pro - Financial Analysis in Excel ...</td>\n",
              "      <td>https://www.udemy.com/complete-excel-finance-c...</td>\n",
              "      <td>True</td>\n",
              "      <td>95</td>\n",
              "      <td>2451</td>\n",
              "      <td>11</td>\n",
              "      <td>36</td>\n",
              "      <td>All Levels</td>\n",
              "      <td>3 hours</td>\n",
              "      <td>2017-05-30T20:07:24Z</td>\n",
              "    </tr>\n",
              "  </tbody>\n",
              "</table>\n",
              "</div>\n",
              "      <button class=\"colab-df-convert\" onclick=\"convertToInteractive('df-8de95df4-8786-4d71-9cf0-8ef2af598dbd')\"\n",
              "              title=\"Convert this dataframe to an interactive table.\"\n",
              "              style=\"display:none;\">\n",
              "        \n",
              "  <svg xmlns=\"http://www.w3.org/2000/svg\" height=\"24px\"viewBox=\"0 0 24 24\"\n",
              "       width=\"24px\">\n",
              "    <path d=\"M0 0h24v24H0V0z\" fill=\"none\"/>\n",
              "    <path d=\"M18.56 5.44l.94 2.06.94-2.06 2.06-.94-2.06-.94-.94-2.06-.94 2.06-2.06.94zm-11 1L8.5 8.5l.94-2.06 2.06-.94-2.06-.94L8.5 2.5l-.94 2.06-2.06.94zm10 10l.94 2.06.94-2.06 2.06-.94-2.06-.94-.94-2.06-.94 2.06-2.06.94z\"/><path d=\"M17.41 7.96l-1.37-1.37c-.4-.4-.92-.59-1.43-.59-.52 0-1.04.2-1.43.59L10.3 9.45l-7.72 7.72c-.78.78-.78 2.05 0 2.83L4 21.41c.39.39.9.59 1.41.59.51 0 1.02-.2 1.41-.59l7.78-7.78 2.81-2.81c.8-.78.8-2.07 0-2.86zM5.41 20L4 18.59l7.72-7.72 1.47 1.35L5.41 20z\"/>\n",
              "  </svg>\n",
              "      </button>\n",
              "      \n",
              "  <style>\n",
              "    .colab-df-container {\n",
              "      display:flex;\n",
              "      flex-wrap:wrap;\n",
              "      gap: 12px;\n",
              "    }\n",
              "\n",
              "    .colab-df-convert {\n",
              "      background-color: #E8F0FE;\n",
              "      border: none;\n",
              "      border-radius: 50%;\n",
              "      cursor: pointer;\n",
              "      display: none;\n",
              "      fill: #1967D2;\n",
              "      height: 32px;\n",
              "      padding: 0 0 0 0;\n",
              "      width: 32px;\n",
              "    }\n",
              "\n",
              "    .colab-df-convert:hover {\n",
              "      background-color: #E2EBFA;\n",
              "      box-shadow: 0px 1px 2px rgba(60, 64, 67, 0.3), 0px 1px 3px 1px rgba(60, 64, 67, 0.15);\n",
              "      fill: #174EA6;\n",
              "    }\n",
              "\n",
              "    [theme=dark] .colab-df-convert {\n",
              "      background-color: #3B4455;\n",
              "      fill: #D2E3FC;\n",
              "    }\n",
              "\n",
              "    [theme=dark] .colab-df-convert:hover {\n",
              "      background-color: #434B5C;\n",
              "      box-shadow: 0px 1px 3px 1px rgba(0, 0, 0, 0.15);\n",
              "      filter: drop-shadow(0px 1px 2px rgba(0, 0, 0, 0.3));\n",
              "      fill: #FFFFFF;\n",
              "    }\n",
              "  </style>\n",
              "\n",
              "      <script>\n",
              "        const buttonEl =\n",
              "          document.querySelector('#df-8de95df4-8786-4d71-9cf0-8ef2af598dbd button.colab-df-convert');\n",
              "        buttonEl.style.display =\n",
              "          google.colab.kernel.accessAllowed ? 'block' : 'none';\n",
              "\n",
              "        async function convertToInteractive(key) {\n",
              "          const element = document.querySelector('#df-8de95df4-8786-4d71-9cf0-8ef2af598dbd');\n",
              "          const dataTable =\n",
              "            await google.colab.kernel.invokeFunction('convertToInteractive',\n",
              "                                                     [key], {});\n",
              "          if (!dataTable) return;\n",
              "\n",
              "          const docLinkHtml = 'Like what you see? Visit the ' +\n",
              "            '<a target=\"_blank\" href=https://colab.research.google.com/notebooks/data_table.ipynb>data table notebook</a>'\n",
              "            + ' to learn more about interactive tables.';\n",
              "          element.innerHTML = '';\n",
              "          dataTable['output_type'] = 'display_data';\n",
              "          await google.colab.output.renderOutput(dataTable, element);\n",
              "          const docLink = document.createElement('div');\n",
              "          docLink.innerHTML = docLinkHtml;\n",
              "          element.appendChild(docLink);\n",
              "        }\n",
              "      </script>\n",
              "    </div>\n",
              "  </div>\n",
              "  "
            ]
          },
          "metadata": {},
          "execution_count": 69
        }
      ]
    },
    {
      "cell_type": "code",
      "source": [
        "udemy_datasets.shape"
      ],
      "metadata": {
        "colab": {
          "base_uri": "https://localhost:8080/"
        },
        "id": "HlTQEqhidsDR",
        "outputId": "f4d52055-5977-4337-e3ea-c7d50dafa65b"
      },
      "execution_count": 67,
      "outputs": [
        {
          "output_type": "execute_result",
          "data": {
            "text/plain": [
              "(1199, 11)"
            ]
          },
          "metadata": {},
          "execution_count": 67
        }
      ]
    },
    {
      "cell_type": "code",
      "source": [
        "udemy_datasets.isnull().sum()"
      ],
      "metadata": {
        "colab": {
          "base_uri": "https://localhost:8080/"
        },
        "id": "CHemn8ZHdvqD",
        "outputId": "408c28df-6905-4252-fd66-127ba88fc13f"
      },
      "execution_count": 68,
      "outputs": [
        {
          "output_type": "execute_result",
          "data": {
            "text/plain": [
              "id                      0\n",
              "title                   0\n",
              "url                     0\n",
              "isPaid                  0\n",
              "price                   0\n",
              "numSubscribers          0\n",
              "numReviews              0\n",
              "numPublishedLectures    0\n",
              "instructionalLevel      0\n",
              "contentInfo             0\n",
              "publishedTime           0\n",
              "dtype: int64"
            ]
          },
          "metadata": {},
          "execution_count": 68
        }
      ]
    },
    {
      "cell_type": "code",
      "source": [
        "ispaid_count=udemy_datasets['isPaid'].value_counts()\n",
        "print(ispaid_count)"
      ],
      "metadata": {
        "colab": {
          "base_uri": "https://localhost:8080/"
        },
        "id": "grL8sIVDgdvO",
        "outputId": "eddcf86f-d728-4458-877a-24322de9a83c"
      },
      "execution_count": 99,
      "outputs": [
        {
          "output_type": "stream",
          "name": "stdout",
          "text": [
            "True     1103\n",
            "False      96\n",
            "Name: isPaid, dtype: int64\n"
          ]
        }
      ]
    },
    {
      "cell_type": "code",
      "source": [
        "pi_ispaid =ispaid_count.plot(kind='bar')\n",
        "pi_ispaid.set_title(\"Published lecture is paid or not\")"
      ],
      "metadata": {
        "colab": {
          "base_uri": "https://localhost:8080/",
          "height": 490
        },
        "id": "IfAksojinJy6",
        "outputId": "a1d79b0f-f3c0-4dc7-a3c8-668d4568c89f"
      },
      "execution_count": 176,
      "outputs": [
        {
          "output_type": "execute_result",
          "data": {
            "text/plain": [
              "Text(0.5, 1.0, 'Published lecture is paid or not')"
            ]
          },
          "metadata": {},
          "execution_count": 176
        },
        {
          "output_type": "display_data",
          "data": {
            "text/plain": [
              "<Figure size 640x480 with 1 Axes>"
            ],
            "image/png": "[encoded data removed]"
          },
          "metadata": {}
        }
      ]
    },
    {
      "cell_type": "code",
      "source": [
        "instructionalLevel=udemy_datasets['instructionalLevel'].value_counts()\n",
        "print(instructionalLevel)"
      ],
      "metadata": {
        "colab": {
          "base_uri": "https://localhost:8080/"
        },
        "id": "EutAyj8Dh71l",
        "outputId": "677c09d2-860f-49b2-9b73-d69a971cb730"
      },
      "execution_count": 106,
      "outputs": [
        {
          "output_type": "stream",
          "name": "stdout",
          "text": [
            "All Levels            699\n",
            "Beginner Level        341\n",
            "Intermediate Level    128\n",
            "Expert Level           31\n",
            "Name: instructionalLevel, dtype: int64\n"
          ]
        }
      ]
    },
    {
      "cell_type": "code",
      "source": [
        "pi_level=instructionalLevel.plot(kind='pie')\n",
        "pi_level.set_title(\"Published lecture Levels\")"
      ],
      "metadata": {
        "colab": {
          "base_uri": "https://localhost:8080/",
          "height": 445
        },
        "id": "l7qy70SMo-O5",
        "outputId": "2ce5b0e9-f3c7-45b7-ebd5-4ada191e8ec0"
      },
      "execution_count": 171,
      "outputs": [
        {
          "output_type": "execute_result",
          "data": {
            "text/plain": [
              "Text(0.5, 1.0, 'Published lecture Levels')"
            ]
          },
          "metadata": {},
          "execution_count": 171
        },
        {
          "output_type": "display_data",
          "data": {
            "text/plain": [
              "<Figure size 640x480 with 1 Axes>"
            ],
            "image/png": "[encoded data removed]"
          },
          "metadata": {}
        }
      ]
    },
    {
      "cell_type": "code",
      "source": [
        "numSubscribers=udemy_datasets['numSubscribers'].sum()\n",
        "print(\"Total Subscribe of Udemy till 2017 according to this dataset =\",numSubscribers)"
      ],
      "metadata": {
        "colab": {
          "base_uri": "https://localhost:8080/"
        },
        "id": "xjBhhRL6pyyG",
        "outputId": "9e9cba3a-16e6-4567-8fed-4af7714fefb5"
      },
      "execution_count": 118,
      "outputs": [
        {
          "output_type": "stream",
          "name": "stdout",
          "text": [
            "Total Subscribe of Udemy till 2017 according to this dataset = 1870747\n"
          ]
        }
      ]
    },
    {
      "cell_type": "code",
      "source": [
        "udemy_datasets['publishedTime']= pd.to_datetime(udemy_datasets['publishedTime'])"
      ],
      "metadata": {
        "id": "gThuFIGszU-a"
      },
      "execution_count": 161,
      "outputs": []
    },
    {
      "cell_type": "code",
      "source": [
        "udemy_datasets['publishedTime'].dtype"
      ],
      "metadata": {
        "colab": {
          "base_uri": "https://localhost:8080/"
        },
        "id": "a-vE51fcv41G",
        "outputId": "5244235e-b60d-4323-ae63-7dc3f1aa0a5c"
      },
      "execution_count": 162,
      "outputs": [
        {
          "output_type": "execute_result",
          "data": {
            "text/plain": [
              "datetime64[ns, UTC]"
            ]
          },
          "metadata": {},
          "execution_count": 162
        }
      ]
    },
    {
      "cell_type": "code",
      "source": [
        "print(udemy_datasets['publishedTime'])"
      ],
      "metadata": {
        "colab": {
          "base_uri": "https://localhost:8080/"
        },
        "id": "zb3tBwZSzuPe",
        "outputId": "e5acfccf-3493-4050-ceda-5ecc404e870e"
      },
      "execution_count": 164,
      "outputs": [
        {
          "output_type": "stream",
          "name": "stdout",
          "text": [
            "0      2017-01-18 20:58:58+00:00\n",
            "1      2017-03-09 16:34:20+00:00\n",
            "2      2016-12-19 19:26:30+00:00\n",
            "3      2017-05-30 20:07:24+00:00\n",
            "4      2016-12-13 14:57:18+00:00\n",
            "                  ...           \n",
            "1194   2016-03-02 18:19:36+00:00\n",
            "1195   2016-07-09 20:50:29+00:00\n",
            "1196   2016-03-18 17:32:03+00:00\n",
            "1197   2016-06-20 22:09:31+00:00\n",
            "1198   2016-08-17 17:04:54+00:00\n",
            "Name: publishedTime, Length: 1199, dtype: datetime64[ns, UTC]\n"
          ]
        }
      ]
    },
    {
      "cell_type": "code",
      "source": [
        "udemy_datasets['year']=udemy_datasets['publishedTime'].dt.year\n",
        "print(udemy_datasets['year'])"
      ],
      "metadata": {
        "colab": {
          "base_uri": "https://localhost:8080/"
        },
        "id": "EvmE1F_U0iIA",
        "outputId": "d2a1e211-580c-4ce5-f2f5-0d45a393bae0"
      },
      "execution_count": 168,
      "outputs": [
        {
          "output_type": "stream",
          "name": "stdout",
          "text": [
            "0       2017\n",
            "1       2017\n",
            "2       2016\n",
            "3       2017\n",
            "4       2016\n",
            "        ... \n",
            "1194    2016\n",
            "1195    2016\n",
            "1196    2016\n",
            "1197    2016\n",
            "1198    2016\n",
            "Name: year, Length: 1199, dtype: int64\n"
          ]
        }
      ]
    },
    {
      "cell_type": "code",
      "source": [
        "udemy_datasets.head()"
      ],
      "metadata": {
        "colab": {
          "base_uri": "https://localhost:8080/",
          "height": 423
        },
        "id": "GA8uBi0K07Yf",
        "outputId": "d35ffe8e-60e3-4461-d276-30c900d9a9ad"
      },
      "execution_count": 169,
      "outputs": [
        {
          "output_type": "execute_result",
          "data": {
            "text/plain": [
              "        id                                              title  \\\n",
              "0  1070968                 Ultimate Investment Banking Course   \n",
              "1  1113822  Complete GST Course & Certification - Grow You...   \n",
              "2  1006314  Financial Modeling for Business Analysts and C...   \n",
              "3  1210588  Beginner to Pro - Financial Analysis in Excel ...   \n",
              "4  1011058       How To Maximize Your Profits Trading Options   \n",
              "\n",
              "                                                 url  isPaid price  \\\n",
              "0  https://www.udemy.com/ultimate-investment-bank...    True   200   \n",
              "1      https://www.udemy.com/goods-and-services-tax/    True    75   \n",
              "2  https://www.udemy.com/financial-modeling-for-b...    True    45   \n",
              "3  https://www.udemy.com/complete-excel-finance-c...    True    95   \n",
              "4  https://www.udemy.com/how-to-maximize-your-pro...    True   200   \n",
              "\n",
              "   numSubscribers  numReviews  numPublishedLectures  instructionalLevel  \\\n",
              "0            2147          23                    51          All Levels   \n",
              "1            2792         923                   274          All Levels   \n",
              "2            2174          74                    51  Intermediate Level   \n",
              "3            2451          11                    36          All Levels   \n",
              "4            1276          45                    26  Intermediate Level   \n",
              "\n",
              "  contentInfo             publishedTime  year  \n",
              "0   1.5 hours 2017-01-18 20:58:58+00:00  2017  \n",
              "1    39 hours 2017-03-09 16:34:20+00:00  2017  \n",
              "2   2.5 hours 2016-12-19 19:26:30+00:00  2016  \n",
              "3     3 hours 2017-05-30 20:07:24+00:00  2017  \n",
              "4     2 hours 2016-12-13 14:57:18+00:00  2016  "
            ],
            "text/html": [
              "\n",
              "  <div id=\"df-3ef918be-5134-4e3c-b2bd-f4911b58105c\">\n",
              "    <div class=\"colab-df-container\">\n",
              "      <div>\n",
              "<style scoped>\n",
              "    .dataframe tbody tr th:only-of-type {\n",
              "        vertical-align: middle;\n",
              "    }\n",
              "\n",
              "    .dataframe tbody tr th {\n",
              "        vertical-align: top;\n",
              "    }\n",
              "\n",
              "    .dataframe thead th {\n",
              "        text-align: right;\n",
              "    }\n",
              "</style>\n",
              "<table border=\"1\" class=\"dataframe\">\n",
              "  <thead>\n",
              "    <tr style=\"text-align: right;\">\n",
              "      <th></th>\n",
              "      <th>id</th>\n",
              "      <th>title</th>\n",
              "      <th>url</th>\n",
              "      <th>isPaid</th>\n",
              "      <th>price</th>\n",
              "      <th>numSubscribers</th>\n",
              "      <th>numReviews</th>\n",
              "      <th>numPublishedLectures</th>\n",
              "      <th>instructionalLevel</th>\n",
              "      <th>contentInfo</th>\n",
              "      <th>publishedTime</th>\n",
              "      <th>year</th>\n",
              "    </tr>\n",
              "  </thead>\n",
              "  <tbody>\n",
              "    <tr>\n",
              "      <th>0</th>\n",
              "      <td>1070968</td>\n",
              "      <td>Ultimate Investment Banking Course</td>\n",
              "      <td>https://www.udemy.com/ultimate-investment-bank...</td>\n",
              "      <td>True</td>\n",
              "      <td>200</td>\n",
              "      <td>2147</td>\n",
              "      <td>23</td>\n",
              "      <td>51</td>\n",
              "      <td>All Levels</td>\n",
              "      <td>1.5 hours</td>\n",
              "      <td>2017-01-18 20:58:58+00:00</td>\n",
              "      <td>2017</td>\n",
              "    </tr>\n",
              "    <tr>\n",
              "      <th>1</th>\n",
              "      <td>1113822</td>\n",
              "      <td>Complete GST Course &amp; Certification - Grow You...</td>\n",
              "      <td>https://www.udemy.com/goods-and-services-tax/</td>\n",
              "      <td>True</td>\n",
              "      <td>75</td>\n",
              "      <td>2792</td>\n",
              "      <td>923</td>\n",
              "      <td>274</td>\n",
              "      <td>All Levels</td>\n",
              "      <td>39 hours</td>\n",
              "      <td>2017-03-09 16:34:20+00:00</td>\n",
              "      <td>2017</td>\n",
              "    </tr>\n",
              "    <tr>\n",
              "      <th>2</th>\n",
              "      <td>1006314</td>\n",
              "      <td>Financial Modeling for Business Analysts and C...</td>\n",
              "      <td>https://www.udemy.com/financial-modeling-for-b...</td>\n",
              "      <td>True</td>\n",
              "      <td>45</td>\n",
              "      <td>2174</td>\n",
              "      <td>74</td>\n",
              "      <td>51</td>\n",
              "      <td>Intermediate Level</td>\n",
              "      <td>2.5 hours</td>\n",
              "      <td>2016-12-19 19:26:30+00:00</td>\n",
              "      <td>2016</td>\n",
              "    </tr>\n",
              "    <tr>\n",
              "      <th>3</th>\n",
              "      <td>1210588</td>\n",
              "      <td>Beginner to Pro - Financial Analysis in Excel ...</td>\n",
              "      <td>https://www.udemy.com/complete-excel-finance-c...</td>\n",
              "      <td>True</td>\n",
              "      <td>95</td>\n",
              "      <td>2451</td>\n",
              "      <td>11</td>\n",
              "      <td>36</td>\n",
              "      <td>All Levels</td>\n",
              "      <td>3 hours</td>\n",
              "      <td>2017-05-30 20:07:24+00:00</td>\n",
              "      <td>2017</td>\n",
              "    </tr>\n",
              "    <tr>\n",
              "      <th>4</th>\n",
              "      <td>1011058</td>\n",
              "      <td>How To Maximize Your Profits Trading Options</td>\n",
              "      <td>https://www.udemy.com/how-to-maximize-your-pro...</td>\n",
              "      <td>True</td>\n",
              "      <td>200</td>\n",
              "      <td>1276</td>\n",
              "      <td>45</td>\n",
              "      <td>26</td>\n",
              "      <td>Intermediate Level</td>\n",
              "      <td>2 hours</td>\n",
              "      <td>2016-12-13 14:57:18+00:00</td>\n",
              "      <td>2016</td>\n",
              "    </tr>\n",
              "  </tbody>\n",
              "</table>\n",
              "</div>\n",
              "      <button class=\"colab-df-convert\" onclick=\"convertToInteractive('df-3ef918be-5134-4e3c-b2bd-f4911b58105c')\"\n",
              "              title=\"Convert this dataframe to an interactive table.\"\n",
              "              style=\"display:none;\">\n",
              "        \n",
              "  <svg xmlns=\"http://www.w3.org/2000/svg\" height=\"24px\"viewBox=\"0 0 24 24\"\n",
              "       width=\"24px\">\n",
              "    <path d=\"M0 0h24v24H0V0z\" fill=\"none\"/>\n",
              "    <path d=\"M18.56 5.44l.94 2.06.94-2.06 2.06-.94-2.06-.94-.94-2.06-.94 2.06-2.06.94zm-11 1L8.5 8.5l.94-2.06 2.06-.94-2.06-.94L8.5 2.5l-.94 2.06-2.06.94zm10 10l.94 2.06.94-2.06 2.06-.94-2.06-.94-.94-2.06-.94 2.06-2.06.94z\"/><path d=\"M17.41 7.96l-1.37-1.37c-.4-.4-.92-.59-1.43-.59-.52 0-1.04.2-1.43.59L10.3 9.45l-7.72 7.72c-.78.78-.78 2.05 0 2.83L4 21.41c.39.39.9.59 1.41.59.51 0 1.02-.2 1.41-.59l7.78-7.78 2.81-2.81c.8-.78.8-2.07 0-2.86zM5.41 20L4 18.59l7.72-7.72 1.47 1.35L5.41 20z\"/>\n",
              "  </svg>\n",
              "      </button>\n",
              "      \n",
              "  <style>\n",
              "    .colab-df-container {\n",
              "      display:flex;\n",
              "      flex-wrap:wrap;\n",
              "      gap: 12px;\n",
              "    }\n",
              "\n",
              "    .colab-df-convert {\n",
              "      background-color: #E8F0FE;\n",
              "      border: none;\n",
              "      border-radius: 50%;\n",
              "      cursor: pointer;\n",
              "      display: none;\n",
              "      fill: #1967D2;\n",
              "      height: 32px;\n",
              "      padding: 0 0 0 0;\n",
              "      width: 32px;\n",
              "    }\n",
              "\n",
              "    .colab-df-convert:hover {\n",
              "      background-color: #E2EBFA;\n",
              "      box-shadow: 0px 1px 2px rgba(60, 64, 67, 0.3), 0px 1px 3px 1px rgba(60, 64, 67, 0.15);\n",
              "      fill: #174EA6;\n",
              "    }\n",
              "\n",
              "    [theme=dark] .colab-df-convert {\n",
              "      background-color: #3B4455;\n",
              "      fill: #D2E3FC;\n",
              "    }\n",
              "\n",
              "    [theme=dark] .colab-df-convert:hover {\n",
              "      background-color: #434B5C;\n",
              "      box-shadow: 0px 1px 3px 1px rgba(0, 0, 0, 0.15);\n",
              "      filter: drop-shadow(0px 1px 2px rgba(0, 0, 0, 0.3));\n",
              "      fill: #FFFFFF;\n",
              "    }\n",
              "  </style>\n",
              "\n",
              "      <script>\n",
              "        const buttonEl =\n",
              "          document.querySelector('#df-3ef918be-5134-4e3c-b2bd-f4911b58105c button.colab-df-convert');\n",
              "        buttonEl.style.display =\n",
              "          google.colab.kernel.accessAllowed ? 'block' : 'none';\n",
              "\n",
              "        async function convertToInteractive(key) {\n",
              "          const element = document.querySelector('#df-3ef918be-5134-4e3c-b2bd-f4911b58105c');\n",
              "          const dataTable =\n",
              "            await google.colab.kernel.invokeFunction('convertToInteractive',\n",
              "                                                     [key], {});\n",
              "          if (!dataTable) return;\n",
              "\n",
              "          const docLinkHtml = 'Like what you see? Visit the ' +\n",
              "            '<a target=\"_blank\" href=https://colab.research.google.com/notebooks/data_table.ipynb>data table notebook</a>'\n",
              "            + ' to learn more about interactive tables.';\n",
              "          element.innerHTML = '';\n",
              "          dataTable['output_type'] = 'display_data';\n",
              "          await google.colab.output.renderOutput(dataTable, element);\n",
              "          const docLink = document.createElement('div');\n",
              "          docLink.innerHTML = docLinkHtml;\n",
              "          element.appendChild(docLink);\n",
              "        }\n",
              "      </script>\n",
              "    </div>\n",
              "  </div>\n",
              "  "
            ]
          },
          "metadata": {},
          "execution_count": 169
        }
      ]
    },
    {
      "cell_type": "code",
      "source": [
        "year=udemy_datasets['year'].value_counts().sort_values(ascending=True)\n",
        "print(year)"
      ],
      "metadata": {
        "colab": {
          "base_uri": "https://localhost:8080/"
        },
        "id": "H7h8_O7311Tb",
        "outputId": "2461cbcf-800b-430c-8a64-053d41d4ec88"
      },
      "execution_count": 187,
      "outputs": [
        {
          "output_type": "stream",
          "name": "stdout",
          "text": [
            "2012      6\n",
            "2013     84\n",
            "2014    192\n",
            "2017    229\n",
            "2015    339\n",
            "2016    349\n",
            "Name: year, dtype: int64\n"
          ]
        }
      ]
    },
    {
      "cell_type": "code",
      "source": [
        "pi_year=year.plot(kind='bar')\n",
        "pi_year.set_title(\"published title by year\")"
      ],
      "metadata": {
        "colab": {
          "base_uri": "https://localhost:8080/",
          "height": 490
        },
        "id": "t51FC2dM1JHM",
        "outputId": "33e042b7-ab29-4354-ed06-b7a0448b2a48"
      },
      "execution_count": 188,
      "outputs": [
        {
          "output_type": "execute_result",
          "data": {
            "text/plain": [
              "Text(0.5, 1.0, 'published title by year')"
            ]
          },
          "metadata": {},
          "execution_count": 188
        },
        {
          "output_type": "display_data",
          "data": {
            "text/plain": [
              "<Figure size 640x480 with 1 Axes>"
            ],
            "image/png": "[encoded data removed]"
          },
          "metadata": {}
        }
      ]
    },
    {
      "cell_type": "code",
      "source": [
        "udemy_datasets.head()"
      ],
      "metadata": {
        "colab": {
          "base_uri": "https://localhost:8080/",
          "height": 423
        },
        "id": "Lo33kiDZ28EN",
        "outputId": "95d8a5fa-acd7-462f-b70f-fbd944676f77"
      },
      "execution_count": 177,
      "outputs": [
        {
          "output_type": "execute_result",
          "data": {
            "text/plain": [
              "        id                                              title  \\\n",
              "0  1070968                 Ultimate Investment Banking Course   \n",
              "1  1113822  Complete GST Course & Certification - Grow You...   \n",
              "2  1006314  Financial Modeling for Business Analysts and C...   \n",
              "3  1210588  Beginner to Pro - Financial Analysis in Excel ...   \n",
              "4  1011058       How To Maximize Your Profits Trading Options   \n",
              "\n",
              "                                                 url  isPaid price  \\\n",
              "0  https://www.udemy.com/ultimate-investment-bank...    True   200   \n",
              "1      https://www.udemy.com/goods-and-services-tax/    True    75   \n",
              "2  https://www.udemy.com/financial-modeling-for-b...    True    45   \n",
              "3  https://www.udemy.com/complete-excel-finance-c...    True    95   \n",
              "4  https://www.udemy.com/how-to-maximize-your-pro...    True   200   \n",
              "\n",
              "   numSubscribers  numReviews  numPublishedLectures  instructionalLevel  \\\n",
              "0            2147          23                    51          All Levels   \n",
              "1            2792         923                   274          All Levels   \n",
              "2            2174          74                    51  Intermediate Level   \n",
              "3            2451          11                    36          All Levels   \n",
              "4            1276          45                    26  Intermediate Level   \n",
              "\n",
              "  contentInfo             publishedTime  year  \n",
              "0   1.5 hours 2017-01-18 20:58:58+00:00  2017  \n",
              "1    39 hours 2017-03-09 16:34:20+00:00  2017  \n",
              "2   2.5 hours 2016-12-19 19:26:30+00:00  2016  \n",
              "3     3 hours 2017-05-30 20:07:24+00:00  2017  \n",
              "4     2 hours 2016-12-13 14:57:18+00:00  2016  "
            ],
            "text/html": [
              "\n",
              "  <div id=\"df-154e6ed2-bfa0-470f-8735-5c9fc19e45d9\">\n",
              "    <div class=\"colab-df-container\">\n",
              "      <div>\n",
              "<style scoped>\n",
              "    .dataframe tbody tr th:only-of-type {\n",
              "        vertical-align: middle;\n",
              "    }\n",
              "\n",
              "    .dataframe tbody tr th {\n",
              "        vertical-align: top;\n",
              "    }\n",
              "\n",
              "    .dataframe thead th {\n",
              "        text-align: right;\n",
              "    }\n",
              "</style>\n",
              "<table border=\"1\" class=\"dataframe\">\n",
              "  <thead>\n",
              "    <tr style=\"text-align: right;\">\n",
              "      <th></th>\n",
              "      <th>id</th>\n",
              "      <th>title</th>\n",
              "      <th>url</th>\n",
              "      <th>isPaid</th>\n",
              "      <th>price</th>\n",
              "      <th>numSubscribers</th>\n",
              "      <th>numReviews</th>\n",
              "      <th>numPublishedLectures</th>\n",
              "      <th>instructionalLevel</th>\n",
              "      <th>contentInfo</th>\n",
              "      <th>publishedTime</th>\n",
              "      <th>year</th>\n",
              "    </tr>\n",
              "  </thead>\n",
              "  <tbody>\n",
              "    <tr>\n",
              "      <th>0</th>\n",
              "      <td>1070968</td>\n",
              "      <td>Ultimate Investment Banking Course</td>\n",
              "      <td>https://www.udemy.com/ultimate-investment-bank...</td>\n",
              "      <td>True</td>\n",
              "      <td>200</td>\n",
              "      <td>2147</td>\n",
              "      <td>23</td>\n",
              "      <td>51</td>\n",
              "      <td>All Levels</td>\n",
              "      <td>1.5 hours</td>\n",
              "      <td>2017-01-18 20:58:58+00:00</td>\n",
              "      <td>2017</td>\n",
              "    </tr>\n",
              "    <tr>\n",
              "      <th>1</th>\n",
              "      <td>1113822</td>\n",
              "      <td>Complete GST Course &amp; Certification - Grow You...</td>\n",
              "      <td>https://www.udemy.com/goods-and-services-tax/</td>\n",
              "      <td>True</td>\n",
              "      <td>75</td>\n",
              "      <td>2792</td>\n",
              "      <td>923</td>\n",
              "      <td>274</td>\n",
              "      <td>All Levels</td>\n",
              "      <td>39 hours</td>\n",
              "      <td>2017-03-09 16:34:20+00:00</td>\n",
              "      <td>2017</td>\n",
              "    </tr>\n",
              "    <tr>\n",
              "      <th>2</th>\n",
              "      <td>1006314</td>\n",
              "      <td>Financial Modeling for Business Analysts and C...</td>\n",
              "      <td>https://www.udemy.com/financial-modeling-for-b...</td>\n",
              "      <td>True</td>\n",
              "      <td>45</td>\n",
              "      <td>2174</td>\n",
              "      <td>74</td>\n",
              "      <td>51</td>\n",
              "      <td>Intermediate Level</td>\n",
              "      <td>2.5 hours</td>\n",
              "      <td>2016-12-19 19:26:30+00:00</td>\n",
              "      <td>2016</td>\n",
              "    </tr>\n",
              "    <tr>\n",
              "      <th>3</th>\n",
              "      <td>1210588</td>\n",
              "      <td>Beginner to Pro - Financial Analysis in Excel ...</td>\n",
              "      <td>https://www.udemy.com/complete-excel-finance-c...</td>\n",
              "      <td>True</td>\n",
              "      <td>95</td>\n",
              "      <td>2451</td>\n",
              "      <td>11</td>\n",
              "      <td>36</td>\n",
              "      <td>All Levels</td>\n",
              "      <td>3 hours</td>\n",
              "      <td>2017-05-30 20:07:24+00:00</td>\n",
              "      <td>2017</td>\n",
              "    </tr>\n",
              "    <tr>\n",
              "      <th>4</th>\n",
              "      <td>1011058</td>\n",
              "      <td>How To Maximize Your Profits Trading Options</td>\n",
              "      <td>https://www.udemy.com/how-to-maximize-your-pro...</td>\n",
              "      <td>True</td>\n",
              "      <td>200</td>\n",
              "      <td>1276</td>\n",
              "      <td>45</td>\n",
              "      <td>26</td>\n",
              "      <td>Intermediate Level</td>\n",
              "      <td>2 hours</td>\n",
              "      <td>2016-12-13 14:57:18+00:00</td>\n",
              "      <td>2016</td>\n",
              "    </tr>\n",
              "  </tbody>\n",
              "</table>\n",
              "</div>\n",
              "      <button class=\"colab-df-convert\" onclick=\"convertToInteractive('df-154e6ed2-bfa0-470f-8735-5c9fc19e45d9')\"\n",
              "              title=\"Convert this dataframe to an interactive table.\"\n",
              "              style=\"display:none;\">\n",
              "        \n",
              "  <svg xmlns=\"http://www.w3.org/2000/svg\" height=\"24px\"viewBox=\"0 0 24 24\"\n",
              "       width=\"24px\">\n",
              "    <path d=\"M0 0h24v24H0V0z\" fill=\"none\"/>\n",
              "    <path d=\"M18.56 5.44l.94 2.06.94-2.06 2.06-.94-2.06-.94-.94-2.06-.94 2.06-2.06.94zm-11 1L8.5 8.5l.94-2.06 2.06-.94-2.06-.94L8.5 2.5l-.94 2.06-2.06.94zm10 10l.94 2.06.94-2.06 2.06-.94-2.06-.94-.94-2.06-.94 2.06-2.06.94z\"/><path d=\"M17.41 7.96l-1.37-1.37c-.4-.4-.92-.59-1.43-.59-.52 0-1.04.2-1.43.59L10.3 9.45l-7.72 7.72c-.78.78-.78 2.05 0 2.83L4 21.41c.39.39.9.59 1.41.59.51 0 1.02-.2 1.41-.59l7.78-7.78 2.81-2.81c.8-.78.8-2.07 0-2.86zM5.41 20L4 18.59l7.72-7.72 1.47 1.35L5.41 20z\"/>\n",
              "  </svg>\n",
              "      </button>\n",
              "      \n",
              "  <style>\n",
              "    .colab-df-container {\n",
              "      display:flex;\n",
              "      flex-wrap:wrap;\n",
              "      gap: 12px;\n",
              "    }\n",
              "\n",
              "    .colab-df-convert {\n",
              "      background-color: #E8F0FE;\n",
              "      border: none;\n",
              "      border-radius: 50%;\n",
              "      cursor: pointer;\n",
              "      display: none;\n",
              "      fill: #1967D2;\n",
              "      height: 32px;\n",
              "      padding: 0 0 0 0;\n",
              "      width: 32px;\n",
              "    }\n",
              "\n",
              "    .colab-df-convert:hover {\n",
              "      background-color: #E2EBFA;\n",
              "      box-shadow: 0px 1px 2px rgba(60, 64, 67, 0.3), 0px 1px 3px 1px rgba(60, 64, 67, 0.15);\n",
              "      fill: #174EA6;\n",
              "    }\n",
              "\n",
              "    [theme=dark] .colab-df-convert {\n",
              "      background-color: #3B4455;\n",
              "      fill: #D2E3FC;\n",
              "    }\n",
              "\n",
              "    [theme=dark] .colab-df-convert:hover {\n",
              "      background-color: #434B5C;\n",
              "      box-shadow: 0px 1px 3px 1px rgba(0, 0, 0, 0.15);\n",
              "      filter: drop-shadow(0px 1px 2px rgba(0, 0, 0, 0.3));\n",
              "      fill: #FFFFFF;\n",
              "    }\n",
              "  </style>\n",
              "\n",
              "      <script>\n",
              "        const buttonEl =\n",
              "          document.querySelector('#df-154e6ed2-bfa0-470f-8735-5c9fc19e45d9 button.colab-df-convert');\n",
              "        buttonEl.style.display =\n",
              "          google.colab.kernel.accessAllowed ? 'block' : 'none';\n",
              "\n",
              "        async function convertToInteractive(key) {\n",
              "          const element = document.querySelector('#df-154e6ed2-bfa0-470f-8735-5c9fc19e45d9');\n",
              "          const dataTable =\n",
              "            await google.colab.kernel.invokeFunction('convertToInteractive',\n",
              "                                                     [key], {});\n",
              "          if (!dataTable) return;\n",
              "\n",
              "          const docLinkHtml = 'Like what you see? Visit the ' +\n",
              "            '<a target=\"_blank\" href=https://colab.research.google.com/notebooks/data_table.ipynb>data table notebook</a>'\n",
              "            + ' to learn more about interactive tables.';\n",
              "          element.innerHTML = '';\n",
              "          dataTable['output_type'] = 'display_data';\n",
              "          await google.colab.output.renderOutput(dataTable, element);\n",
              "          const docLink = document.createElement('div');\n",
              "          docLink.innerHTML = docLinkHtml;\n",
              "          element.appendChild(docLink);\n",
              "        }\n",
              "      </script>\n",
              "    </div>\n",
              "  </div>\n",
              "  "
            ]
          },
          "metadata": {},
          "execution_count": 177
        }
      ]
    },
    {
      "cell_type": "code",
      "source": [
        "price=udemy_datasets['price'].value_counts().sort_values(ascending=True)\n",
        "print(price)"
      ],
      "metadata": {
        "colab": {
          "base_uri": "https://localhost:8080/"
        },
        "id": "8Rd8K2iG3ASf",
        "outputId": "0ea0e133-9446-4343-82b4-7296a98323c6"
      },
      "execution_count": 185,
      "outputs": [
        {
          "output_type": "stream",
          "name": "stdout",
          "text": [
            "135       1\n",
            "165       1\n",
            "110       1\n",
            "155       1\n",
            "175       2\n",
            "185       2\n",
            "170       2\n",
            "130       2\n",
            "160       3\n",
            "190       3\n",
            "65        4\n",
            "140       4\n",
            "70        4\n",
            "115       5\n",
            "105       5\n",
            "80        6\n",
            "85        6\n",
            "55        7\n",
            "90        8\n",
            "145       9\n",
            "120       9\n",
            "180      10\n",
            "125      13\n",
            "75       19\n",
            "45       23\n",
            "100      27\n",
            "35       29\n",
            "150      32\n",
            "195      33\n",
            "60       33\n",
            "40       50\n",
            "95       52\n",
            "30       53\n",
            "25       54\n",
            "Free     96\n",
            "200     128\n",
            "50      163\n",
            "20      299\n",
            "Name: price, dtype: int64\n"
          ]
        }
      ]
    },
    {
      "cell_type": "code",
      "source": [
        "pi_price=price.plot(kind='bar')\n",
        "pi_price.set_title(\"Number of title by price\")"
      ],
      "metadata": {
        "colab": {
          "base_uri": "https://localhost:8080/",
          "height": 485
        },
        "id": "xMl9guW43X-J",
        "outputId": "d7f14187-1ff5-4625-8717-2600e4dad3bf"
      },
      "execution_count": 186,
      "outputs": [
        {
          "output_type": "execute_result",
          "data": {
            "text/plain": [
              "Text(0.5, 1.0, 'Number of title by price')"
            ]
          },
          "metadata": {},
          "execution_count": 186
        },
        {
          "output_type": "display_data",
          "data": {
            "text/plain": [
              "<Figure size 640x480 with 1 Axes>"
            ],
            "image/png": "[encoded data removed]"
          },
          "metadata": {}
        }
      ]
    }
  ]
}